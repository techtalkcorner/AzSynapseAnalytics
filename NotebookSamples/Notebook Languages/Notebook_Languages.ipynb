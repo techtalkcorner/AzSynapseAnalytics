{
  "metadata": {
    "description": "Notebook executing different languages in Azure Synapse Analytics.",
    "saveOutput": false,
    "language_info": {
      "name": "python"
    }
  },
  "nbformat": 4,
  "nbformat_minor": 2,
  "cells": [
    {
      "cell_type": "markdown",
      "metadata": {},
      "source": [
        "## PySpark (Python) \n",
        "Use %%pyspark\n",
        ""
      ],
      "attachments": {}
    },
    {
      "cell_type": "code",
      "execution_count": 48,
      "outputs": [],
      "metadata": {},
      "source": [
        "%%pyspark\n",
        "Address = spark.read.load('abfss://dlsfs@dlsstorageaccount.dfs.core.windows.net/Demos/AdventureWorks/2020/202007/20200709/SalesLT_Address_20200709.parquet', format='parquet')\n",
        "df = sqlContext.sql(\"SELECT StateProvince, CountryRegion,  count(*) Customers FROM Address group by StateProvince, CountryRegion\")\n",
        "df.createOrReplaceTempView('CustomersByState')"
      ]
    },
    {
      "cell_type": "markdown",
      "metadata": {},
      "source": [
        "## Spark SQL\n",
        "Use %%sql"
      ],
      "attachments": {}
    },
    {
      "cell_type": "code",
      "execution_count": 54,
      "outputs": [
        {
          "output_type": "execute_result",
          "execution_count": 54,
          "data": {
            "application/json": {
              "isSummary": false,
              "language": "sql",
              "table": {
                "rows": [],
                "schema": {}
              }
            }
          },
          "metadata": {}
        }
      ],
      "metadata": {
        "diagram": {
          "activateDiagramType": 1,
          "chartConfig": {
            "category": "bar",
            "keys": [],
            "values": [],
            "yLabel": "",
            "xLabel": "",
            "aggregation": "SUM",
            "aggByBackend": false
          },
          "aggData": {},
          "isSummary": false,
          "previewData": {
            "filter": null
          },
          "isSql": true
        }
      },
      "source": [
        "%%sql\n",
        "CREATE TEMPORARY VIEW CustomersByCountry \n",
        "AS (select  CountryRegion as Country, sum(Customers) as Customers \n",
        "from CustomersByState group by CountryRegion)"
      ],
      "attachments": {}
    },
    {
      "cell_type": "code",
      "execution_count": 50,
      "outputs": [
        {
          "output_type": "execute_result",
          "execution_count": 50,
          "data": {
            "application/json": {
              "isSummary": false,
              "language": "sql",
              "table": {
                "rows": [
                  {
                    "Country": "United States",
                    "Customers": 18
                  },
                  {
                    "Country": "Canada",
                    "Customers": 6
                  },
                  {
                    "Country": "United Kingdom",
                    "Customers": 1
                  }
                ],
                "schema": {
                  "Country": "string",
                  "Customers": "long"
                }
              }
            }
          },
          "metadata": {}
        }
      ],
      "metadata": {
        "diagram": {
          "activateDiagramType": 1,
          "chartConfig": {
            "category": "bar",
            "keys": [
              "Country"
            ],
            "values": [
              "Customers"
            ],
            "yLabel": "Customers",
            "xLabel": "Country",
            "aggregation": "SUM",
            "aggByBackend": false
          },
          "aggData": {
            "Customers": {
              "Canada": 6,
              "United Kingdom": 1,
              "United States": 18
            }
          },
          "isSummary": false,
          "previewData": {
            "filter": null
          },
          "isSql": true
        }
      },
      "source": [
        "%%sql\n",
        "select * from CustomersByCountry"
      ],
      "attachments": {}
    },
    {
      "cell_type": "markdown",
      "metadata": {},
      "source": [
        "## Spark Scala\n",
        "Use %%spark\n",
        ""
      ],
      "attachments": {}
    },
    {
      "cell_type": "code",
      "execution_count": 51,
      "outputs": [
        {
          "output_type": "execute_result",
          "execution_count": 51,
          "data": {
            "application/json": {
              "table": {
                "schema": {
                  "Country": "string"
                },
                "rows": [
                  {
                    "Country": "United Kingdom"
                  }
                ]
              },
              "isSummary": false,
              "language": "scala"
            }
          },
          "metadata": {}
        }
      ],
      "metadata": {
        "diagram": {
          "activateDiagramType": 1,
          "chartConfig": {
            "category": "bar",
            "keys": [
              "Country"
            ],
            "values": [
              "Country"
            ],
            "yLabel": "Country",
            "xLabel": "Country",
            "aggregation": "COUNT",
            "aggByBackend": false
          },
          "aggData": {
            "Country": {
              "United Kingdom": 1
            }
          },
          "isSummary": false,
          "previewData": {
            "filter": null
          },
          "isSql": false
        }
      },
      "source": [
        "%%spark\n",
        "val ScalaTable = spark.sql(\"select Country from CustomersByCountry order by Customers asc limit 1\")\n",
        "ScalaTable.createOrReplaceTempView(\"CountryWithLessCustomers\")\n",
        "display(ScalaTable)"
      ],
      "attachments": {}
    },
    {
      "cell_type": "markdown",
      "metadata": {},
      "source": [
        "## .NET Spark (C#)\n",
        "Use %%csharp"
      ],
      "attachments": {}
    },
    {
      "cell_type": "code",
      "execution_count": 52,
      "outputs": [
        {
          "output_type": "execute_result",
          "execution_count": 52,
          "data": {
            "text/plain": "+--------------+\n|       Country|\n+--------------+\n|United Kingdom|\n+--------------+"
          },
          "metadata": {}
        }
      ],
      "metadata": {
        "diagram": {
          "activateDiagramType": 1,
          "chartConfig": {
            "category": "bar",
            "keys": [
              "AddressID"
            ],
            "values": [
              "AddressID"
            ],
            "yLabel": "AddressID",
            "xLabel": "AddressID",
            "aggregation": "COUNT",
            "aggByBackend": false
          },
          "aggData": {
            "AddressID": {
              "9": 1,
              "11": 1,
              "25": 1,
              "28": 1,
              "32": 1,
              "185": 1,
              "297": 1,
              "445": 1,
              "446": 1,
              "447": 1,
              "448": 1,
              "449": 1,
              "450": 1,
              "451": 1,
              "452": 1,
              "453": 1,
              "454": 1,
              "455": 1,
              "456": 1,
              "457": 1,
              "458": 1,
              "459": 1,
              "460": 1,
              "461": 1,
              "462": 1,
              "463": 1,
              "464": 1,
              "465": 1,
              "466": 1,
              "467": 1,
              "468": 1,
              "469": 1,
              "470": 1,
              "471": 1,
              "472": 1,
              "473": 1,
              "474": 1,
              "475": 1,
              "476": 1,
              "477": 1,
              "478": 1,
              "479": 1,
              "480": 1,
              "481": 1,
              "482": 1,
              "483": 1,
              "484": 1,
              "485": 1,
              "486": 1,
              "487": 1,
              "488": 1,
              "489": 1,
              "490": 1,
              "491": 1,
              "492": 1,
              "493": 1,
              "494": 1,
              "495": 1,
              "496": 1,
              "497": 1,
              "498": 1,
              "499": 1,
              "500": 1,
              "501": 1,
              "502": 1,
              "503": 1,
              "504": 1,
              "505": 1,
              "506": 1,
              "507": 1,
              "508": 1,
              "509": 1,
              "510": 1,
              "511": 1,
              "512": 1,
              "513": 1,
              "514": 1,
              "515": 1,
              "516": 1,
              "517": 1,
              "518": 1,
              "519": 1,
              "520": 1,
              "521": 1,
              "522": 1,
              "523": 1,
              "524": 1,
              "525": 1,
              "526": 1,
              "527": 1,
              "528": 1,
              "529": 1,
              "530": 1,
              "531": 1,
              "532": 1,
              "533": 1,
              "534": 1,
              "535": 1,
              "536": 1,
              "537": 1,
              "538": 1,
              "539": 1,
              "540": 1,
              "541": 1,
              "542": 1,
              "543": 1,
              "544": 1,
              "545": 1,
              "546": 1,
              "547": 1,
              "548": 1,
              "549": 1,
              "550": 1,
              "551": 1,
              "552": 1,
              "553": 1,
              "554": 1,
              "555": 1,
              "556": 1,
              "557": 1,
              "558": 1,
              "559": 1,
              "560": 1,
              "561": 1,
              "562": 1,
              "563": 1,
              "564": 1,
              "565": 1,
              "566": 1,
              "567": 1,
              "568": 1,
              "569": 1,
              "570": 1,
              "571": 1,
              "572": 1,
              "573": 1,
              "574": 1,
              "575": 1,
              "576": 1,
              "577": 1,
              "578": 1,
              "579": 1,
              "580": 1,
              "581": 1,
              "582": 1,
              "583": 1,
              "584": 1,
              "585": 1,
              "586": 1,
              "587": 1,
              "588": 1,
              "589": 1,
              "590": 1,
              "591": 1,
              "592": 1,
              "593": 1,
              "594": 1,
              "595": 1,
              "596": 1,
              "597": 1,
              "598": 1,
              "599": 1,
              "600": 1,
              "601": 1,
              "602": 1,
              "603": 1,
              "604": 1,
              "605": 1,
              "606": 1,
              "607": 1,
              "608": 1,
              "609": 1,
              "610": 1,
              "611": 1,
              "612": 1,
              "613": 1,
              "614": 1,
              "615": 1,
              "616": 1,
              "617": 1,
              "618": 1,
              "619": 1,
              "620": 1,
              "621": 1,
              "622": 1,
              "623": 1,
              "624": 1,
              "625": 1,
              "626": 1,
              "627": 1,
              "628": 1,
              "629": 1,
              "630": 1,
              "631": 1,
              "632": 1,
              "633": 1,
              "634": 1,
              "635": 1,
              "636": 1,
              "637": 1,
              "638": 1,
              "639": 1,
              "640": 1,
              "641": 1,
              "642": 1,
              "643": 1,
              "644": 1,
              "645": 1,
              "646": 1,
              "647": 1,
              "648": 1,
              "649": 1,
              "650": 1,
              "651": 1,
              "652": 1,
              "653": 1,
              "654": 1,
              "655": 1,
              "656": 1,
              "657": 1,
              "658": 1,
              "659": 1,
              "660": 1,
              "661": 1,
              "662": 1,
              "663": 1,
              "664": 1,
              "665": 1,
              "666": 1,
              "667": 1,
              "668": 1,
              "669": 1,
              "670": 1,
              "671": 1,
              "672": 1,
              "673": 1,
              "674": 1,
              "756": 1,
              "774": 1,
              "775": 1,
              "776": 1,
              "785": 1,
              "786": 1,
              "788": 1,
              "789": 1,
              "794": 1,
              "795": 1,
              "797": 1,
              "801": 1,
              "806": 1,
              "810": 1,
              "825": 1,
              "826": 1,
              "832": 1,
              "833": 1,
              "834": 1,
              "835": 1,
              "836": 1,
              "837": 1,
              "838": 1,
              "839": 1,
              "840": 1,
              "841": 1,
              "842": 1,
              "843": 1,
              "844": 1,
              "845": 1,
              "846": 1,
              "847": 1,
              "848": 1,
              "849": 1,
              "850": 1,
              "851": 1,
              "852": 1,
              "853": 1,
              "854": 1,
              "855": 1,
              "856": 1,
              "857": 1,
              "858": 1,
              "859": 1,
              "860": 1,
              "861": 1,
              "862": 1,
              "863": 1,
              "864": 1,
              "865": 1,
              "866": 1,
              "867": 1,
              "868": 1,
              "869": 1,
              "870": 1,
              "871": 1,
              "872": 1,
              "873": 1,
              "874": 1,
              "875": 1,
              "876": 1,
              "877": 1,
              "878": 1,
              "879": 1,
              "880": 1,
              "881": 1,
              "882": 1,
              "883": 1,
              "884": 1,
              "885": 1,
              "886": 1,
              "887": 1,
              "888": 1,
              "889": 1,
              "890": 1,
              "891": 1,
              "892": 1,
              "893": 1,
              "894": 1,
              "895": 1,
              "896": 1,
              "897": 1,
              "898": 1,
              "899": 1,
              "900": 1,
              "901": 1,
              "902": 1,
              "903": 1,
              "904": 1,
              "905": 1,
              "906": 1,
              "907": 1,
              "988": 1,
              "989": 1,
              "990": 1,
              "991": 1,
              "992": 1,
              "993": 1,
              "994": 1,
              "995": 1,
              "996": 1,
              "997": 1,
              "998": 1,
              "999": 1,
              "1000": 1,
              "1001": 1,
              "1002": 1,
              "1003": 1,
              "1004": 1,
              "1005": 1,
              "1006": 1,
              "1007": 1,
              "1008": 1,
              "1009": 1,
              "1010": 1,
              "1011": 1,
              "1012": 1,
              "1013": 1,
              "1014": 1,
              "1015": 1,
              "1016": 1,
              "1017": 1,
              "1018": 1,
              "1019": 1,
              "1020": 1,
              "1021": 1,
              "1022": 1,
              "1023": 1,
              "1024": 1,
              "1025": 1,
              "1026": 1,
              "1027": 1,
              "1028": 1,
              "1029": 1,
              "1030": 1,
              "1031": 1,
              "1032": 1,
              "1033": 1,
              "1034": 1,
              "1035": 1,
              "1036": 1,
              "1037": 1,
              "1038": 1,
              "1039": 1,
              "1040": 1,
              "1041": 1,
              "1042": 1,
              "1043": 1,
              "1044": 1,
              "1045": 1,
              "1046": 1,
              "1047": 1,
              "1048": 1,
              "1049": 1,
              "1050": 1,
              "1051": 1,
              "1052": 1,
              "1053": 1,
              "1054": 1,
              "1055": 1,
              "1056": 1,
              "1057": 1,
              "1058": 1,
              "1059": 1,
              "1060": 1,
              "1061": 1,
              "1062": 1,
              "1063": 1,
              "1064": 1,
              "1065": 1,
              "1066": 1,
              "1067": 1,
              "1068": 1,
              "1069": 1,
              "1070": 1,
              "1071": 1,
              "1072": 1,
              "1073": 1,
              "1074": 1,
              "1075": 1,
              "1076": 1,
              "1077": 1,
              "1078": 1,
              "1079": 1,
              "1080": 1,
              "1081": 1,
              "1082": 1,
              "1083": 1,
              "1084": 1,
              "1085": 1,
              "1086": 1,
              "1087": 1,
              "1088": 1,
              "1089": 1,
              "1090": 1,
              "1091": 1,
              "1092": 1,
              "1093": 1,
              "1094": 1,
              "1095": 1,
              "1096": 1,
              "1097": 1,
              "1098": 1,
              "1099": 1,
              "1100": 1,
              "1101": 1,
              "1102": 1,
              "1103": 1,
              "1104": 1,
              "1105": 1,
              "11380": 1,
              "11381": 1,
              "11382": 1
            }
          },
          "isSummary": false,
          "previewData": {
            "filter": null
          },
          "isSql": true
        }
      },
      "source": [
        "%%csharp\n",
        "SparkSession spark = SparkSession\n",
        "                .Builder()\n",
        "                .AppName(\"SQL basic example using .NET for Apache Spark\")\n",
        "                .GetOrCreate();\n",
        "\n",
        "DataFrame sqlDf = spark.Sql(\"SELECT * FROM CountryWithLessCustomers\");\n",
        "sqlDf.Show();"
      ],
      "attachments": {}
    }
  ]
}
