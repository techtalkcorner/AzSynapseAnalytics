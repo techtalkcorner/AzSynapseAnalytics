{
  "metadata": {
    "saveOutput": true,
    "language_info": {
      "name": "sql"
    }
  },
  "nbformat": 4,
  "nbformat_minor": 2,
  "cells": [
    {
      "cell_type": "markdown",
      "metadata": {},
      "source": [
        "## Load multiple JSON files\n",
        ""
      ],
      "attachments": {}
    },
    {
      "cell_type": "code",
      "execution_count": null,
      "outputs": [],
      "metadata": {},
      "source": [
        "%%pyspark\n",
        "## Customers\n",
        "customers_data_path = spark.read.load([\n",
        "    'abfss://dlsfs@dlsstorageaccount.dfs.core.windows.net/Demos/AdventureWorks/json/2020/202007/20200712/SalesLT_Customer_20200712.json'\n",
        "    ], format='json')\n",
        "customers_data_path.createOrReplaceTempView(\"Customer\")\n",
        "\n",
        "## Customers Address\n",
        "customers_data_path = spark.read.load([\n",
        "    'abfss://dlsfs@dlsstorageaccount.dfs.core.windows.net/Demos/AdventureWorks/json/2020/202007/20200712/SalesLT_CustomerAddress_20200712.json'\n",
        "    ], format='json')\n",
        "customers_data_path.createOrReplaceTempView(\"CustomerAddress\")\n",
        "\n",
        "## Address\n",
        "customers_data_path = spark.read.load([\n",
        "    'abfss://dlsfs@dlsstorageaccount.dfs.core.windows.net/Demos/AdventureWorks/json/2020/202007/20200712/SalesLT_Address_20200712.json'\n",
        "    ], format='json')\n",
        "customers_data_path.createOrReplaceTempView(\"Address\")"
      ]
    },
    {
      "cell_type": "markdown",
      "metadata": {},
      "source": [
        "## Querying the files using Spark SQL\n",
        ""
      ],
      "attachments": {}
    },
    {
      "cell_type": "code",
      "execution_count": null,
      "outputs": [],
      "metadata": {
        "diagram": {
          "activateDiagramType": 1,
          "chartConfig": {
            "category": "bar",
            "keys": [],
            "values": [],
            "yLabel": "",
            "xLabel": "",
            "aggregation": "SUM",
            "aggByBackend": false
          },
          "aggData": {},
          "isSummary": false,
          "previewData": {
            "filter": null
          },
          "isSql": true
        }
      },
      "source": [
        "%%sql\t\n",
        "select CountryRegion, count(*) as NumberOfCustomers \n",
        "from Customer CUS\n",
        "join CustomerAddress CAD\n",
        "    on CUS.CustomerID = CAD.CustomerID\n",
        "join Address ADR\n",
        "    on ADR.AddressID = CAD.AddressID\n",
        "group by CountryRegion \n",
        "order by count(*) desc"
      ],
      "attachments": {}
    }
  ]
}